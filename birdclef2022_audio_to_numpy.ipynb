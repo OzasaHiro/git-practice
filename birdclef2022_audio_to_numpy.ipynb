{
  "metadata": {
    "kernelspec": {
      "language": "python",
      "display_name": "Python 3",
      "name": "python3"
    },
    "language_info": {
      "name": "python",
      "version": "3.7.12",
      "mimetype": "text/x-python",
      "codemirror_mode": {
        "name": "ipython",
        "version": 3
      },
      "pygments_lexer": "ipython3",
      "nbconvert_exporter": "python",
      "file_extension": ".py"
    },
    "colab": {
      "name": "birdclef2022-audio-to-numpy.ipynb",
      "provenance": [],
      "include_colab_link": true
    }
  },
  "nbformat_minor": 0,
  "nbformat": 4,
  "cells": [
    {
      "cell_type": "markdown",
      "metadata": {
        "id": "view-in-github",
        "colab_type": "text"
      },
      "source": [
        "<a href=\"https://colab.research.google.com/github/OzasaHiro/git-practice/blob/main/birdclef2022_audio_to_numpy.ipynb\" target=\"_parent\"><img src=\"https://colab.research.google.com/assets/colab-badge.svg\" alt=\"Open In Colab\"/></a>"
      ]
    },
    {
      "cell_type": "code",
      "source": [
        "import os\n",
        "IS_COLAB = not os.path.exists('/kaggle/input')\n",
        "print(IS_COLAB) "
      ],
      "metadata": {
        "colab": {
          "base_uri": "https://localhost:8080/"
        },
        "id": "UbiZkbYRn6YP",
        "outputId": "2a04eb44-d311-44d8-c4e7-9a3d89d46ed4"
      },
      "execution_count": 1,
      "outputs": [
        {
          "output_type": "stream",
          "name": "stdout",
          "text": [
            "True\n"
          ]
        }
      ]
    },
    {
      "cell_type": "code",
      "source": [
        "if IS_COLAB:\n",
        "  from google.colab import drive\n",
        "  drive.mount('/content/drive')\n",
        "else:\n",
        "  from kaggle_datasets import KaggleDatasets"
      ],
      "metadata": {
        "colab": {
          "base_uri": "https://localhost:8080/"
        },
        "id": "1cPNjdVCn6d9",
        "outputId": "a9f94d38-9b5f-4483-9b3e-449525329823"
      },
      "execution_count": 2,
      "outputs": [
        {
          "output_type": "stream",
          "name": "stdout",
          "text": [
            "Mounted at /content/drive\n"
          ]
        }
      ]
    },
    {
      "cell_type": "code",
      "source": [
        "!pip install /content/drive/MyDrive/Kaggle-BirdCLEF2022/torchlibrosa-0.0.5-py3-none-any.whl > /dev/null"
      ],
      "metadata": {
        "execution": {
          "iopub.status.busy": "2022-05-05T03:29:01.775139Z",
          "iopub.execute_input": "2022-05-05T03:29:01.776138Z",
          "iopub.status.idle": "2022-05-05T03:29:12.492517Z",
          "shell.execute_reply.started": "2022-05-05T03:29:01.776027Z",
          "shell.execute_reply": "2022-05-05T03:29:12.491412Z"
        },
        "trusted": true,
        "id": "sOqdV4XUn3Kf"
      },
      "execution_count": 6,
      "outputs": []
    },
    {
      "cell_type": "code",
      "source": [
        "import os, json, random, cv2\n",
        "import audioread\n",
        "import logging\n",
        "import gc\n",
        "import sys\n",
        "sys.path.append('/content/drive/MyDrive/Kaggle-BirdCLEF2022/pytorch-image-models-master')\n",
        "import random\n",
        "import time\n",
        "import warnings\n",
        "\n",
        "import librosa\n",
        "import numpy as np\n",
        "import pandas as pd\n",
        "import soundfile as sf\n",
        "import timm\n",
        "import torch\n",
        "import torch.nn as nn\n",
        "import torch.nn.functional as F\n",
        "import torch.utils.data as torchdata\n",
        "\n",
        "from contextlib import contextmanager\n",
        "from joblib import Parallel, delayed\n",
        "from pathlib import Path\n",
        "from typing import Optional\n",
        "from sklearn.model_selection import StratifiedKFold, GroupKFold\n",
        "\n",
        "from albumentations.core.transforms_interface import ImageOnlyTransform\n",
        "from torchlibrosa.stft import LogmelFilterBank, Spectrogram\n",
        "from torchlibrosa.augmentation import SpecAugmentation\n",
        "from tqdm import tqdm\n",
        "\n",
        "import albumentations as A\n",
        "import albumentations.pytorch.transforms as T\n",
        "\n",
        "import matplotlib.pyplot as plt"
      ],
      "metadata": {
        "execution": {
          "iopub.status.busy": "2022-05-05T03:29:14.504982Z",
          "iopub.execute_input": "2022-05-05T03:29:14.505606Z",
          "iopub.status.idle": "2022-05-05T03:29:21.831103Z",
          "shell.execute_reply.started": "2022-05-05T03:29:14.505565Z",
          "shell.execute_reply": "2022-05-05T03:29:21.830238Z"
        },
        "trusted": true,
        "id": "p9T8FT0qn3Kh"
      },
      "execution_count": 7,
      "outputs": []
    },
    {
      "cell_type": "code",
      "source": [
        "%%time\n",
        "\n",
        "### Create Kaggle Dataset if not exists \n",
        "\n",
        "DATASET_NAME = f'birdclef2022-audio-5to10sec'\n",
        "\n",
        "os.makedirs(f'/content/drive/MyDrive/Kaggle-BirdCLEF2022/{DATASET_NAME}', exist_ok=True)\n"
      ],
      "metadata": {
        "execution": {
          "iopub.status.busy": "2022-05-05T03:29:21.834006Z",
          "iopub.execute_input": "2022-05-05T03:29:21.834404Z",
          "iopub.status.idle": "2022-05-05T03:29:31.599127Z",
          "shell.execute_reply.started": "2022-05-05T03:29:21.834353Z",
          "shell.execute_reply": "2022-05-05T03:29:31.597961Z"
        },
        "trusted": true,
        "colab": {
          "base_uri": "https://localhost:8080/"
        },
        "id": "3KK89JYgn3Ki",
        "outputId": "70137ed6-636b-4926-98d6-6ae3c1c44733"
      },
      "execution_count": 12,
      "outputs": [
        {
          "output_type": "stream",
          "name": "stdout",
          "text": [
            "CPU times: user 1.06 ms, sys: 4 µs, total: 1.07 ms\n",
            "Wall time: 25.5 ms\n"
          ]
        }
      ]
    },
    {
      "cell_type": "code",
      "source": [
        "SR = 32000\n",
        "USE_SEC = 5 # 60 # 90 # 60\n",
        "\n",
        "def Audio_to_Array(path):\n",
        "    y, sr = sf.read(path, always_2d=True)\n",
        "    y = np.mean(y, 1) # there is (X, 2) array\n",
        "\n",
        "    END = 2 * SR * USE_SEC\n",
        "    START = SR * USE_SEC\n",
        "\n",
        "   # if len(y) > (USE_SEC + 2) * SR:\n",
        "   #     y = y[SR:-SR]\n",
        "\n",
        "    if len(y) > 2 * SR * USE_SEC:\n",
        "        y = y[START : END]\n",
        "\n",
        "    return y\n",
        "\n",
        "def save_(path):\n",
        "    save_path = f'/content/drive/MyDrive/Kaggle-BirdCLEF2022/{DATASET_NAME}/train_np/' + \"/\".join(path.split('/')[-2:])\n",
        "    np.save(save_path, Audio_to_Array(path))\n",
        "\n",
        "\n",
        "AUDIO_PATH = '/content/drive/MyDrive/Kaggle-BirdCLEF2022/train_audio'\n",
        "\n",
        "\n",
        "train = pd.read_csv('/content/drive/MyDrive/Kaggle-BirdCLEF2022/train_metadata.csv')\n",
        "train[\"file_path\"] = AUDIO_PATH + '/' + train['filename']\n",
        "paths = train[\"file_path\"].values"
      ],
      "metadata": {
        "execution": {
          "iopub.status.busy": "2022-05-05T03:29:31.600760Z",
          "iopub.execute_input": "2022-05-05T03:29:31.601324Z",
          "iopub.status.idle": "2022-05-05T03:29:31.765066Z",
          "shell.execute_reply.started": "2022-05-05T03:29:31.601279Z",
          "shell.execute_reply": "2022-05-05T03:29:31.764039Z"
        },
        "trusted": true,
        "id": "wYb2R7rhn3Ki"
      },
      "execution_count": 13,
      "outputs": []
    },
    {
      "cell_type": "code",
      "source": [
        "i = 0 # 0,1,2,3\n",
        "step = int(len(paths)/1)\n",
        "# paths[step * i:step * (i+1)]"
      ],
      "metadata": {
        "execution": {
          "iopub.status.busy": "2022-05-05T03:29:31.766943Z",
          "iopub.execute_input": "2022-05-05T03:29:31.767292Z",
          "iopub.status.idle": "2022-05-05T03:29:31.772440Z",
          "shell.execute_reply.started": "2022-05-05T03:29:31.767248Z",
          "shell.execute_reply": "2022-05-05T03:29:31.771369Z"
        },
        "trusted": true,
        "id": "qBx-jFken3Kj"
      },
      "execution_count": 14,
      "outputs": []
    },
    {
      "cell_type": "code",
      "source": [
        "NUM_WORKERS = 4\n",
        "CLASSES = sorted(os.listdir(AUDIO_PATH))\n",
        "\n",
        "for dir_ in tqdm(CLASSES):\n",
        "    _ = os.makedirs(f'/content/drive/MyDrive/Kaggle-BirdCLEF2022/{DATASET_NAME}/train_np/' + dir_, exist_ok=True)\n",
        "_ = Parallel(n_jobs=NUM_WORKERS)(delayed(save_)(AUDIO_PATH) for AUDIO_PATH in tqdm(paths[step * i:step * (i+1)]))"
      ],
      "metadata": {
        "execution": {
          "iopub.status.busy": "2022-05-05T03:29:31.774261Z",
          "iopub.execute_input": "2022-05-05T03:29:31.775326Z",
          "iopub.status.idle": "2022-05-05T03:39:57.716524Z",
          "shell.execute_reply.started": "2022-05-05T03:29:31.775241Z",
          "shell.execute_reply": "2022-05-05T03:39:57.715308Z"
        },
        "trusted": true,
        "colab": {
          "base_uri": "https://localhost:8080/"
        },
        "id": "LL-XrlZnn3Kj",
        "outputId": "53c265d0-2746-4e95-f394-7e713641cea7"
      },
      "execution_count": 15,
      "outputs": [
        {
          "output_type": "stream",
          "name": "stderr",
          "text": [
            "100%|██████████| 153/153 [00:00<00:00, 318.59it/s]\n",
            " 10%|▉         | 1472/14852 [01:51<16:54, 13.18it/s]/usr/local/lib/python3.7/dist-packages/joblib/externals/loky/process_executor.py:705: UserWarning: A worker stopped while some jobs were given to the executor. This can be caused by a too short worker timeout or by a memory leak.\n",
            "  \"timeout or by a memory leak.\", UserWarning\n",
            "100%|██████████| 14852/14852 [30:41<00:00,  8.06it/s]\n"
          ]
        }
      ]
    },
    {
      "cell_type": "code",
      "source": [
        ""
      ],
      "metadata": {
        "id": "dyDsKKrin3Kk"
      },
      "execution_count": null,
      "outputs": []
    }
  ]
}